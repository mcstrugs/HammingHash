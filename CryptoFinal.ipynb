{
 "cells": [
  {
   "cell_type": "code",
   "execution_count": 3,
   "id": "7e070fa3",
   "metadata": {},
   "outputs": [],
   "source": [
    "from sympy import *\n",
    "#init_printing(use_latex='mathjax')\n",
    "#init_session()"
   ]
  },
  {
   "cell_type": "code",
   "execution_count": 5,
   "id": "802c63b6",
   "metadata": {
    "scrolled": false
   },
   "outputs": [
    {
     "data": {
      "text/latex": [
       "$\\displaystyle \\left[\\begin{array}{cccccccccccccccc}0 & 0 & 1 & 1 & 1 & 1 & 0 & 0 & 1 & 1 & 0 & 0 & 0 & 0 & 1 & 0\\\\0 & 0 & 1 & 1 & 1 & 1 & 0 & 0 & 1 & 1 & 0 & 0 & 0 & 0 & 0 & 1\\\\1 & 1 & 0 & 0 & 0 & 0 & 1 & 1 & 0 & 0 & 1 & 1 & 1 & 0 & 0 & 0\\\\1 & 1 & 0 & 0 & 0 & 0 & 1 & 1 & 0 & 0 & 1 & 1 & 0 & 1 & 0 & 0\\\\1 & 1 & 0 & 0 & 0 & 0 & 1 & 1 & 0 & 0 & 1 & 0 & 1 & 1 & 0 & 0\\\\1 & 1 & 0 & 0 & 0 & 0 & 1 & 1 & 0 & 0 & 0 & 1 & 1 & 1 & 0 & 0\\\\0 & 0 & 1 & 1 & 1 & 1 & 0 & 0 & 1 & 0 & 0 & 0 & 0 & 0 & 1 & 1\\\\0 & 0 & 1 & 1 & 1 & 1 & 0 & 0 & 0 & 1 & 0 & 0 & 0 & 0 & 1 & 1\\\\1 & 1 & 0 & 0 & 0 & 0 & 1 & 0 & 0 & 0 & 1 & 1 & 1 & 1 & 0 & 0\\\\1 & 1 & 0 & 0 & 0 & 0 & 0 & 1 & 0 & 0 & 1 & 1 & 1 & 1 & 0 & 0\\\\0 & 0 & 1 & 1 & 1 & 0 & 0 & 0 & 1 & 1 & 0 & 0 & 0 & 0 & 1 & 1\\\\0 & 0 & 1 & 1 & 0 & 1 & 0 & 0 & 1 & 1 & 0 & 0 & 0 & 0 & 1 & 1\\\\0 & 0 & 1 & 0 & 1 & 1 & 0 & 0 & 1 & 1 & 0 & 0 & 0 & 0 & 1 & 1\\\\0 & 0 & 0 & 1 & 1 & 1 & 0 & 0 & 1 & 1 & 0 & 0 & 0 & 0 & 1 & 1\\\\1 & 0 & 0 & 0 & 0 & 0 & 1 & 1 & 0 & 0 & 1 & 1 & 1 & 1 & 0 & 0\\\\0 & 1 & 0 & 0 & 0 & 0 & 1 & 1 & 0 & 0 & 1 & 1 & 1 & 1 & 0 & 0\\end{array}\\right]$"
      ],
      "text/plain": [
       "Matrix([\n",
       "[0, 0, 1, 1, 1, 1, 0, 0, 1, 1, 0, 0, 0, 0, 1, 0],\n",
       "[0, 0, 1, 1, 1, 1, 0, 0, 1, 1, 0, 0, 0, 0, 0, 1],\n",
       "[1, 1, 0, 0, 0, 0, 1, 1, 0, 0, 1, 1, 1, 0, 0, 0],\n",
       "[1, 1, 0, 0, 0, 0, 1, 1, 0, 0, 1, 1, 0, 1, 0, 0],\n",
       "[1, 1, 0, 0, 0, 0, 1, 1, 0, 0, 1, 0, 1, 1, 0, 0],\n",
       "[1, 1, 0, 0, 0, 0, 1, 1, 0, 0, 0, 1, 1, 1, 0, 0],\n",
       "[0, 0, 1, 1, 1, 1, 0, 0, 1, 0, 0, 0, 0, 0, 1, 1],\n",
       "[0, 0, 1, 1, 1, 1, 0, 0, 0, 1, 0, 0, 0, 0, 1, 1],\n",
       "[1, 1, 0, 0, 0, 0, 1, 0, 0, 0, 1, 1, 1, 1, 0, 0],\n",
       "[1, 1, 0, 0, 0, 0, 0, 1, 0, 0, 1, 1, 1, 1, 0, 0],\n",
       "[0, 0, 1, 1, 1, 0, 0, 0, 1, 1, 0, 0, 0, 0, 1, 1],\n",
       "[0, 0, 1, 1, 0, 1, 0, 0, 1, 1, 0, 0, 0, 0, 1, 1],\n",
       "[0, 0, 1, 0, 1, 1, 0, 0, 1, 1, 0, 0, 0, 0, 1, 1],\n",
       "[0, 0, 0, 1, 1, 1, 0, 0, 1, 1, 0, 0, 0, 0, 1, 1],\n",
       "[1, 0, 0, 0, 0, 0, 1, 1, 0, 0, 1, 1, 1, 1, 0, 0],\n",
       "[0, 1, 0, 0, 0, 0, 1, 1, 0, 0, 1, 1, 1, 1, 0, 0]])"
      ]
     },
     "execution_count": 5,
     "metadata": {},
     "output_type": "execute_result"
    }
   ],
   "source": [
    "#Hp = Matrix([[0,0,1],[0,1,0],[0,1,1],[1,0,0],[1,0,1],[1,1,0],[1,1,1]])\n",
    "H = Matrix([[1,0,0],[0,1,0],[0,0,1],[1,1,0],[1,0,1],[0,1,1],[1,1,1]])\n",
    "G = Matrix([[1,1,0,1,0,0,0],[1,0,1,0,1,0,0],[0,1,1,0,0,1,0],[1,1,1,0,0,0,1]])\n",
    "\n",
    "def getNmat(n,l): #n is number, l is length\n",
    "    return Matrix((list(bin(n + 2**l)[3:]))).T\n",
    "\n",
    "codes = []\n",
    "for i in range(2**4):\n",
    "    codes.append(getNmat(i,4)*G % 2)\n",
    "    \n",
    "adj_mat = zeros(16)\n",
    "for i in range(len(codes)):\n",
    "    for j in range(len(codes)):\n",
    "        diff = (codes[i] - codes[j]) % 2\n",
    "        if diff.dot(ones(1,7)) == 3:\n",
    "            adj_mat[i,j] = 1\n",
    "        \n",
    "adj_mat"
   ]
  },
  {
   "cell_type": "code",
   "execution_count": 3,
   "id": "7044fc2c",
   "metadata": {},
   "outputs": [
    {
     "data": {
      "text/plain": [
       "{7: 1, -7: 1, 1: 7, -1: 7}"
      ]
     },
     "execution_count": 3,
     "metadata": {},
     "output_type": "execute_result"
    }
   ],
   "source": [
    "adj_mat.eigenvals()"
   ]
  },
  {
   "cell_type": "code",
   "execution_count": 41,
   "id": "38393573",
   "metadata": {},
   "outputs": [],
   "source": [
    "\n",
    "\n",
    "#Hp = Matrix([[0,0,1],[0,1,0],[0,1,1],[1,0,0],[1,0,1],[1,1,0],[1,1,1]])\n",
    "H = Matrix([[1,0,0,0],[0,1,0,0],[0,0,1,0],[0,0,0,1],[1,1,0,0],[0,1,1,0],[0,0,1,1],[1,0,1,0],[0,1,0,1],[1,0,0,1],[1,1,1,0],[1,1,0,1],[1,0,1,1],[0,1,1,1],[1,1,1,1]])\n",
    "G = H[4:,0:].row_join(eye(11))\n",
    "def getNmat(n,l): #n is number, l is length\n",
    "    return Matrix((list(bin(n + 2**l)[3:]))).T\n",
    "\n",
    "codes = []\n",
    "for i in range(2**11):\n",
    "    codes.append(getNmat(i,11)*G % 2)\n",
    "    \n",
    "adj_mat = zeros(2**11)\n",
    "#for i in range(len(codes)):\n",
    "    #for j in range(len(codes)):\n",
    "        #diff = (codes[i] - codes[j]) % 2\n",
    "        #if diff.dot(ones(1,15)) == 3:\n",
    "            #adj_mat[i,j] = 1\n",
    "            \n",
    "        \n"
   ]
  },
  {
   "cell_type": "markdown",
   "id": "c16d1416",
   "metadata": {},
   "source": [
    "Commented section above took about 20 minutes on my computer"
   ]
  },
  {
   "cell_type": "code",
   "execution_count": 4,
   "id": "9e306ff4",
   "metadata": {},
   "outputs": [],
   "source": [
    "### importing previously computed matrix from binary 'matrix4.pickle'\n",
    "import pickle\n",
    "\n",
    "with open('matrix4.pickle', 'rb') as inf:\n",
    "    adj_mat = pickle.loads(inf.read())"
   ]
  },
  {
   "cell_type": "code",
   "execution_count": 61,
   "id": "6fd30133",
   "metadata": {},
   "outputs": [],
   "source": [
    "# this was used to write the matrix to a file\n",
    "#with open('matrix4.pickle', 'wb')  as outf:\n",
    "    #outf.write(pickle.dumps(adj_mat))\n",
    "    \n"
   ]
  },
  {
   "cell_type": "markdown",
   "id": "0e091911",
   "metadata": {},
   "source": [
    "I had to use numpy to compute eigenvalues for this larger matrix as a symbolic solver would fail."
   ]
  },
  {
   "cell_type": "code",
   "execution_count": 5,
   "id": "22c4aad0",
   "metadata": {},
   "outputs": [],
   "source": [
    "import numpy as np\n",
    "adj_np = np.matrix(adj_mat,dtype=float)"
   ]
  },
  {
   "cell_type": "code",
   "execution_count": 6,
   "id": "62954ade",
   "metadata": {},
   "outputs": [],
   "source": [
    "eigs = np.linalg.eigvals(adj_np)"
   ]
  },
  {
   "cell_type": "code",
   "execution_count": 7,
   "id": "62c3832e",
   "metadata": {},
   "outputs": [
    {
     "name": "stderr",
     "output_type": "stream",
     "text": [
      "/tmp/ipykernel_15095/4082111978.py:1: ComplexWarning: Casting complex values to real discards the imaginary part\n",
      "  eigs_int = np.int_(np.rint(eigs))\n"
     ]
    }
   ],
   "source": [
    "eigs_int = np.int_(np.rint(eigs))"
   ]
  },
  {
   "cell_type": "code",
   "execution_count": 8,
   "id": "52d2966e",
   "metadata": {},
   "outputs": [],
   "source": [
    "unique_eigs = np.unique(eigs_int)"
   ]
  },
  {
   "cell_type": "code",
   "execution_count": 9,
   "id": "1cdbf334",
   "metadata": {},
   "outputs": [],
   "source": [
    "counts = []\n",
    "eigs_list = list(eigs_int)\n",
    "for i in unique_eigs:\n",
    "    counts.append(eigs_list.count(i))"
   ]
  },
  {
   "cell_type": "code",
   "execution_count": 10,
   "id": "2749edff",
   "metadata": {},
   "outputs": [
    {
     "data": {
      "text/plain": [
       "array([-35, -21, -11,  -5,  -3,   3,   5,  11,  21,  35])"
      ]
     },
     "execution_count": 10,
     "metadata": {},
     "output_type": "execute_result"
    }
   ],
   "source": [
    "unique_eigs"
   ]
  },
  {
   "cell_type": "code",
   "execution_count": 11,
   "id": "d0a58669",
   "metadata": {},
   "outputs": [
    {
     "data": {
      "text/plain": [
       "[1, 15, 105, 448, 455, 455, 448, 105, 15, 1]"
      ]
     },
     "execution_count": 11,
     "metadata": {},
     "output_type": "execute_result"
    }
   ],
   "source": [
    "counts"
   ]
  },
  {
   "cell_type": "code",
   "execution_count": null,
   "id": "b34f7f4e",
   "metadata": {},
   "outputs": [],
   "source": []
  }
 ],
 "metadata": {
  "kernelspec": {
   "display_name": "Python 3 (ipykernel)",
   "language": "python",
   "name": "python3"
  },
  "language_info": {
   "codemirror_mode": {
    "name": "ipython",
    "version": 3
   },
   "file_extension": ".py",
   "mimetype": "text/x-python",
   "name": "python",
   "nbconvert_exporter": "python",
   "pygments_lexer": "ipython3",
   "version": "3.10.10"
  }
 },
 "nbformat": 4,
 "nbformat_minor": 5
}
